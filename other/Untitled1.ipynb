{
 "cells": [
  {
   "cell_type": "code",
   "execution_count": 6,
   "id": "72b57a1e-635b-475c-83a1-43fa0d71f32e",
   "metadata": {},
   "outputs": [],
   "source": [
    "from typing import Optional, List\n",
    "from pydantic import BaseModel"
   ]
  },
  {
   "cell_type": "code",
   "execution_count": 7,
   "id": "620cb9cc-b745-46af-806e-b0470c18ed26",
   "metadata": {},
   "outputs": [],
   "source": [
    "class Message(BaseModel):\n",
    "    role: str   # \"system\" or \"user\"\n",
    "    content: str"
   ]
  },
  {
   "cell_type": "code",
   "execution_count": 8,
   "id": "5e6e8a53-b17b-4a8a-ad90-16114e48ebe9",
   "metadata": {},
   "outputs": [],
   "source": [
    "def build_prompt(messages: List[Message]) -> str:\n",
    "    \"\"\"Flatten system + user messages into one string for the model.\"\"\"\n",
    "    prompt = \"\"\n",
    "    for m in messages:\n",
    "        if m.role == \"system\":\n",
    "            prompt += f\"[SYSTEM]: {m.content}\\n\"\n",
    "        elif m.role == \"user\":\n",
    "            prompt += f\"[USER]: {m.content}\\n\"\n",
    "    prompt += \"[ASSISTANT]: \"  # model continues here\n",
    "    return prompt"
   ]
  },
  {
   "cell_type": "code",
   "execution_count": 11,
   "id": "db9071b8-8ffb-4fd4-a845-80ae014b6f87",
   "metadata": {},
   "outputs": [],
   "source": [
    "messages = [\n",
    "    Message(role=\"system\", content=\"You are a helpful assistant.\"),\n",
    "    Message(role=\"user\", content=\"What is Sri Lanka?\")\n",
    "]\n"
   ]
  },
  {
   "cell_type": "code",
   "execution_count": 12,
   "id": "a02003ed-2c6f-494c-b5aa-2c4c8e14d6f4",
   "metadata": {},
   "outputs": [],
   "source": [
    "resp = build_prompt(messages)"
   ]
  },
  {
   "cell_type": "code",
   "execution_count": 13,
   "id": "9c3962b8-3fe5-454c-b8ac-382adbf9eda7",
   "metadata": {},
   "outputs": [
    {
     "name": "stdout",
     "output_type": "stream",
     "text": [
      "[SYSTEM]: You are a helpful assistant.\n",
      "[USER]: What is Sri Lanka?\n",
      "[ASSISTANT]: \n"
     ]
    }
   ],
   "source": [
    "print(resp)"
   ]
  },
  {
   "cell_type": "code",
   "execution_count": 39,
   "id": "5bb3dc57-c5c8-4909-b424-dc9b1d8df122",
   "metadata": {},
   "outputs": [
    {
     "name": "stdout",
     "output_type": "stream",
     "text": [
      "{\"name\": \"Mihiran\", \"age\": 24 }\n"
     ]
    }
   ],
   "source": [
    "import requests\n",
    "\n",
    "payload = {\n",
    "    \"messages\": [\n",
    "        {\"role\": \"system\", \"content\": \"This is a task you must complete by returning only the output.\\nDo not include explanations, code, or extra text—only the result.\"},\n",
    "        {\"role\": \"user\", \"content\": \"Hi my name is Mihiran and I am 24 years old.\"}\n",
    "    ],\n",
    "    \"json_schema\": {\n",
    "        \"type\": \"object\",\n",
    "        \"properties\": {\n",
    "            \"name\": {\"type\": \"string\"},\n",
    "            \"age\": {\"type\": \"integer\"}\n",
    "        },\n",
    "        \"required\": [\"name\", \"age\"],\n",
    "        \"additionalProperties\": False\n",
    "    },\n",
    "    \"temperature\": 0.0,\n",
    "    \"max_tokens\": 128\n",
    "}\n",
    "\n",
    "r = requests.post(\"http://localhost:7000/chat\", json=payload)\n",
    "response = r.json()\n",
    "\n",
    "# If the server returns something like {\"result\": \"...\"}\n",
    "print(response[\"response\"])"
   ]
  },
  {
   "cell_type": "code",
   "execution_count": 52,
   "id": "6fe34a1f-5a6b-4333-8bc8-7768bc595158",
   "metadata": {},
   "outputs": [
    {
     "name": "stdout",
     "output_type": "stream",
     "text": [
      "Status code: 200\n",
      "{'prompt': '[SYSTEM]: This is a task you must complete by returning only the output.\\nDo not include explanations, code, or extra text—only the result.\\n[USER]: Hi my name is Mihiran and I am 24 years old.\\n[ASSISTANT]: ', 'response': '{\"name\": \"mihiran\", \"age\": 100}'}\n"
     ]
    }
   ],
   "source": [
    "import requests\n",
    "\n",
    "payload = {\n",
    "    \"messages\": [\n",
    "        {\"role\": \"system\", \"content\": \"This is a task you must complete by returning only the output.\\nDo not include explanations, code, or extra text—only the result.\"},\n",
    "        {\"role\": \"user\", \"content\": \"Hi my name is Mihiran and I am 24 years old.\"}\n",
    "    ],\n",
    "    \"json_schema\": {\n",
    "        \"type\": \"object\",\n",
    "        \"properties\": {\n",
    "            \"name\": {\"type\": \"string\"},\n",
    "            \"age\": {\"type\": \"integer\"}\n",
    "        },\n",
    "        \"required\": [\"name\", \"age\"],\n",
    "        \"additionalProperties\": False\n",
    "    },\n",
    "    \"temperature\": 0.0,\n",
    "    \"max_tokens\": 128\n",
    "}\n",
    "\n",
    "# Replace localhost:7000 with your remote IP and port\n",
    "url = \"http://0.0.0.0:7000/chat\"\n",
    "\n",
    "\n",
    "\n",
    "r = requests.post(url, json=payload)\n",
    "response = r.json()\n",
    "print(\"Status code:\", r.status_code)\n",
    "\n",
    "print(response)  # check the raw JSON once"
   ]
  },
  {
   "cell_type": "code",
   "execution_count": null,
   "id": "a1e69571-eb1e-4f02-9fd6-f412300289b6",
   "metadata": {},
   "outputs": [],
   "source": []
  },
  {
   "cell_type": "code",
   "execution_count": null,
   "id": "82cb60a0-c979-4b0e-9b9f-b53cd2b2cfcd",
   "metadata": {},
   "outputs": [],
   "source": []
  }
 ],
 "metadata": {
  "kernelspec": {
   "display_name": "Python 3 (ipykernel)",
   "language": "python",
   "name": "python3"
  },
  "language_info": {
   "codemirror_mode": {
    "name": "ipython",
    "version": 3
   },
   "file_extension": ".py",
   "mimetype": "text/x-python",
   "name": "python",
   "nbconvert_exporter": "python",
   "pygments_lexer": "ipython3",
   "version": "3.11.11"
  }
 },
 "nbformat": 4,
 "nbformat_minor": 5
}
